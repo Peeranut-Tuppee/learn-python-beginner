{
 "cells": [
  {
   "cell_type": "code",
   "execution_count": 8,
   "id": "d5efd85f",
   "metadata": {},
   "outputs": [
    {
     "name": "stdout",
     "output_type": "stream",
     "text": [
      "thescores are : [5, 5, 5, 5, 5]\n"
     ]
    }
   ],
   "source": [
    "ClassAScore = []\n",
    "count = 0 \n",
    "\n",
    "while count < 5 :\n",
    "    count += 1\n",
    "    scoreInput = int(input('คะแนนสอบนักเรียน'+ str(count) + \":\"))\n",
    "    ClassAScore.append(scoreInput)\n",
    "print('thescores are :' ,ClassAScore)"
   ]
  },
  {
   "cell_type": "code",
   "execution_count": 10,
   "id": "3304b92a",
   "metadata": {},
   "outputs": [
    {
     "name": "stdout",
     "output_type": "stream",
     "text": [
      "[5, 5, 5, 5, 5, 11, 7, 5, 10, 8]\n"
     ]
    }
   ],
   "source": [
    "classBScore = [11,7,5,10,8]\n",
    "allScore = ClassAScore+classBScore\n",
    "print(allScore)"
   ]
  },
  {
   "cell_type": "code",
   "execution_count": 11,
   "id": "6ffa2423",
   "metadata": {},
   "outputs": [
    {
     "name": "stdout",
     "output_type": "stream",
     "text": [
      "[5, 5, 5, 5, 5, 7, 5, 10, 8]\n"
     ]
    }
   ],
   "source": [
    "removeInput = int(input('What number would you lkie to remove?'))\n",
    "allScore.remove(removeInput)\n",
    "print(allScore)"
   ]
  },
  {
   "cell_type": "code",
   "execution_count": 12,
   "id": "5bd2bbd5",
   "metadata": {},
   "outputs": [
    {
     "name": "stdout",
     "output_type": "stream",
     "text": [
      "[5, 5, 4, 5, 5, 5, 7, 5, 10, 8]\n"
     ]
    }
   ],
   "source": [
    "insertInput = int(input('What number would you lkie to insert?'))\n",
    "insertPosition = int(input('At what position?'))\n",
    "\n",
    "allScore.insert(insertPosition,insertInput)\n",
    "print(allScore)"
   ]
  },
  {
   "cell_type": "code",
   "execution_count": null,
   "id": "8b474971",
   "metadata": {},
   "outputs": [
    {
     "name": "stdout",
     "output_type": "stream",
     "text": [
      "Total Sales :  51600\n",
      "Daily Average :  2150.0\n"
     ]
    }
   ],
   "source": [
    "Weekly = ['Mon','Tue','Wed','Thur','Fri','Sat','Sun']\n",
    "week4Report = []\n",
    "existingReport = [1500,2000,1000,1200,2100,1000,3000,1800,2500,2100,3400,1700,2600,3300,1500,2900,3100]\n",
    "count = 0 \n",
    "while count < 7 :\n",
    "    inputweek4 = int(input(str(Weekly[count]) + ':'))\n",
    "    week4Report.append(inputweek4)\n",
    "    count += 1 \n",
    "monthlyReport = existingReport + week4Report\n",
    "print('Total Sales : ',sum(monthlyReport))\n",
    "print('Daily Average : ', (sum(monthlyReport)/len(monthlyReport)))"
   ]
  },
  {
   "cell_type": "code",
   "execution_count": 21,
   "id": "15d54a16",
   "metadata": {},
   "outputs": [
    {
     "name": "stdout",
     "output_type": "stream",
     "text": [
      "Total Sales :  42400\n",
      "Daily Average :  1514.2857142857142\n",
      "Week 2 Sales:  [1500, 2000, 1000, 1200, 2100, 1000, 3000]\n",
      "Total Sales :  11800\n",
      "Daily Average :  1685.7142857142858\n",
      "Week 1 Sales:  [1500, 2000, 1000, 1200, 2100, 1000, 3000]\n",
      "Total Sales :  11800\n",
      "Daily Average :  1685.7142857142858\n",
      "Week 1 Sales:  [1500, 2000, 1000, 1200, 2100, 1000, 3000]\n",
      "Total Sales :  11800\n",
      "Daily Average :  1685.7142857142858\n",
      "Week 3 Sales:  [1500, 2000, 1000, 1200, 2100, 1000, 3000]\n",
      "Total Sales :  11800\n",
      "Daily Average :  1685.7142857142858\n",
      "Week 4 Sales:  [1000, 1000, 1000, 1000, 1000, 1000, 1000]\n",
      "Total Sales :  7000\n",
      "Daily Average :  1000.0\n",
      "Week 4 Sales:  [1000, 1000, 1000, 1000, 1000, 1000, 1000]\n",
      "Total Sales :  7000\n",
      "Daily Average :  1000.0\n"
     ]
    },
    {
     "ename": "ValueError",
     "evalue": "invalid literal for int() with base 10: ''",
     "output_type": "error",
     "traceback": [
      "\u001b[31m---------------------------------------------------------------------------\u001b[39m",
      "\u001b[31mValueError\u001b[39m                                Traceback (most recent call last)",
      "\u001b[36mCell\u001b[39m\u001b[36m \u001b[39m\u001b[32mIn[21]\u001b[39m\u001b[32m, line 22\u001b[39m\n\u001b[32m     20\u001b[39m     \u001b[38;5;28;01melse\u001b[39;00m:\n\u001b[32m     21\u001b[39m         \u001b[38;5;28mprint\u001b[39m(\u001b[33m'\u001b[39m\u001b[33mError\u001b[39m\u001b[33m'\u001b[39m)\n\u001b[32m---> \u001b[39m\u001b[32m22\u001b[39m     infoWeekReport = \u001b[38;5;28;43mint\u001b[39;49m\u001b[43m(\u001b[49m\u001b[38;5;28;43minput\u001b[39;49m\u001b[43m(\u001b[49m\u001b[33;43m'\u001b[39;49m\u001b[33;43mEnter week number(1-4) to see more weekly details - Press 0 to Exit\u001b[39;49m\u001b[33;43m'\u001b[39;49m\u001b[43m)\u001b[49m\u001b[43m)\u001b[49m\n\u001b[32m     24\u001b[39m \u001b[38;5;28mprint\u001b[39m()\n\u001b[32m     25\u001b[39m \u001b[38;5;28mprint\u001b[39m(\u001b[33m'\u001b[39m\u001b[33mExit\u001b[39m\u001b[33m'\u001b[39m)\n",
      "\u001b[31mValueError\u001b[39m: invalid literal for int() with base 10: ''"
     ]
    }
   ],
   "source": [
    "Weekly = ['Mon','Tue','Wed','Thur','Fri','Sat','Sun']\n",
    "week4Report = []\n",
    "existingReport = [1500,2000,1000,1200,2100,1000,3000,1500,2000,1000,1200,2100,1000,3000,1500,2000,1000,1200,2100,1000,3000]\n",
    "count = 0 \n",
    "while count < 7 :\n",
    "    inputweek4 = int(input(str(Weekly[count]) + ':'))\n",
    "    week4Report.append(inputweek4)\n",
    "    count += 1 \n",
    "monthlyReport = existingReport + week4Report\n",
    "print('Total Sales : ',sum(monthlyReport))\n",
    "print('Daily Average : ', (sum(monthlyReport)/len(monthlyReport)))\n",
    "\n",
    "infoWeekReport = int(input('Enter week number(1-4) to see more weekly details - Press 0 to Exit'))\n",
    "while infoWeekReport != 0 :\n",
    "    if 1<= infoWeekReport <= 4 :\n",
    "        weekReport = monthlyReport[(infoWeekReport-1)*7:(infoWeekReport)*7]\n",
    "        print('Week', infoWeekReport , 'Sales: ',weekReport)\n",
    "        print('Total Sales : ',sum(weekReport))\n",
    "        print('Daily Average : ', (sum(weekReport)/len(weekReport)))\n",
    "    else:\n",
    "        print('Error')\n",
    "    infoWeekReport = int(input('Enter week number(1-4) to see more weekly details - Press 0 to Exit'))\n",
    "\n",
    "print()\n",
    "print('Exit')"
   ]
  },
  {
   "cell_type": "code",
   "execution_count": null,
   "id": "1d2dd39e",
   "metadata": {},
   "outputs": [],
   "source": []
  }
 ],
 "metadata": {
  "kernelspec": {
   "display_name": ".venv",
   "language": "python",
   "name": "python3"
  },
  "language_info": {
   "codemirror_mode": {
    "name": "ipython",
    "version": 3
   },
   "file_extension": ".py",
   "mimetype": "text/x-python",
   "name": "python",
   "nbconvert_exporter": "python",
   "pygments_lexer": "ipython3",
   "version": "3.13.1"
  }
 },
 "nbformat": 4,
 "nbformat_minor": 5
}
